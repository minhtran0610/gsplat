{
 "cells": [
  {
   "cell_type": "markdown",
   "id": "a7d0682c",
   "metadata": {},
   "source": [
    "# GSPLAT training & rasterization investigation"
   ]
  },
  {
   "cell_type": "code",
   "execution_count": null,
   "id": "0bddfb4d",
   "metadata": {},
   "outputs": [],
   "source": [
    "import os\n",
    "os.chdir(\"/home/minhtran/Code/gsplat/examples\")"
   ]
  },
  {
   "cell_type": "code",
   "execution_count": null,
   "id": "a6fb3521",
   "metadata": {},
   "outputs": [],
   "source": [
    "from datasets.colmap import Parser\n",
    "from datasets.colmap_rgba import DatasetRGBA"
   ]
  },
  {
   "cell_type": "markdown",
   "id": "046cbf12",
   "metadata": {},
   "source": [
    "## DataLoader"
   ]
  },
  {
   "cell_type": "code",
   "execution_count": null,
   "id": "e1647413",
   "metadata": {},
   "outputs": [],
   "source": [
    "import imageio.v2 as imageio"
   ]
  },
  {
   "cell_type": "code",
   "execution_count": null,
   "id": "f4a138fb",
   "metadata": {},
   "outputs": [],
   "source": [
    "FRAME = \"00000000\""
   ]
  },
  {
   "cell_type": "code",
   "execution_count": null,
   "id": "ad4e80d1",
   "metadata": {},
   "outputs": [],
   "source": [
    "data_dir = f\"/home/minhtran/Code/data/vocap/minh_2/frames/{FRAME}/train/rgba\"\n",
    "data_factor = 1\n",
    "normalize = False\n",
    "test_every = 6\n",
    "result_dir = f\"/home/minhtran/Code/data/vocap/minh_2/gsplat_results/frames/{FRAME}/train/rgba\""
   ]
  },
  {
   "cell_type": "code",
   "execution_count": null,
   "id": "5b383f5b",
   "metadata": {},
   "outputs": [],
   "source": [
    "parser = Parser(\n",
    "    data_dir=data_dir,\n",
    "    factor=data_factor,\n",
    "    normalize=normalize,\n",
    "    test_every=test_every,\n",
    ")"
   ]
  },
  {
   "cell_type": "code",
   "execution_count": null,
   "id": "e73472a6",
   "metadata": {},
   "outputs": [],
   "source": [
    "parser.camera_ids"
   ]
  },
  {
   "cell_type": "code",
   "execution_count": null,
   "id": "1cecbc46",
   "metadata": {},
   "outputs": [],
   "source": [
    "index = 0\n",
    "img = imageio.imread(parser.image_paths[index])"
   ]
  },
  {
   "cell_type": "code",
   "execution_count": null,
   "id": "aeddb6e7",
   "metadata": {},
   "outputs": [],
   "source": [
    "# Display img\n",
    "import matplotlib.pyplot as plt\n",
    "plt.imshow(img)\n",
    "plt.axis('off')\n",
    "plt.show()"
   ]
  },
  {
   "cell_type": "code",
   "execution_count": null,
   "id": "bcb65826",
   "metadata": {},
   "outputs": [],
   "source": [
    "cfg.normalize_world_space"
   ]
  },
  {
   "cell_type": "markdown",
   "id": "118e90d9",
   "metadata": {},
   "source": [
    "# Test dataloader"
   ]
  },
  {
   "cell_type": "code",
   "execution_count": null,
   "id": "14a537ad",
   "metadata": {},
   "outputs": [],
   "source": [
    "test_data_dir = \"/home/minhtran/Code/data/vocap/minh_2/frames/00000000/test/rgba\""
   ]
  },
  {
   "cell_type": "code",
   "execution_count": null,
   "id": "a5e8f197",
   "metadata": {},
   "outputs": [],
   "source": [
    "test_parser = Parser(\n",
    "    data_dir=test_data_dir,\n",
    "    factor=data_factor,\n",
    "    normalize=normalize,\n",
    "    test_every=1,\n",
    ")"
   ]
  },
  {
   "cell_type": "code",
   "execution_count": null,
   "id": "c8fe841e",
   "metadata": {},
   "outputs": [],
   "source": [
    "test_dataset = DatasetRGBA(test_parser, split=\"eval\")"
   ]
  },
  {
   "cell_type": "code",
   "execution_count": null,
   "id": "545a83fd",
   "metadata": {},
   "outputs": [],
   "source": [
    "test_parser.camera_ids"
   ]
  },
  {
   "cell_type": "code",
   "execution_count": null,
   "id": "b4573c17",
   "metadata": {},
   "outputs": [],
   "source": [
    "first_item = test_dataset[0]"
   ]
  },
  {
   "cell_type": "code",
   "execution_count": null,
   "id": "0deba772",
   "metadata": {},
   "outputs": [],
   "source": [
    "len(test_dataset)"
   ]
  },
  {
   "cell_type": "markdown",
   "id": "d79fd659",
   "metadata": {},
   "source": [
    "# Render a test image"
   ]
  },
  {
   "cell_type": "code",
   "execution_count": null,
   "id": "d83fee6a",
   "metadata": {},
   "outputs": [],
   "source": [
    "import os\n",
    "\n",
    "from typing import Tuple, Dict, Optional, Literal\n",
    "from torch import Tensor\n",
    "\n",
    "import torch\n",
    "\n",
    "from gsplat.rendering import rasterization\n",
    "from gsplat.strategy import DefaultStrategy, MCMCStrategy\n",
    "\n",
    "from simple_trainer_rgba import Runner\n",
    "\n",
    "import yaml\n",
    "from easydict import EasyDict as edict"
   ]
  },
  {
   "cell_type": "code",
   "execution_count": null,
   "id": "cd2c0241",
   "metadata": {},
   "outputs": [],
   "source": [
    "result_dir = \"/home/minhtran/Code/data/vocap/minh_2/gsplat_results/frames/00000000/rgba/mcmc_random_bkgd\""
   ]
  },
  {
   "cell_type": "code",
   "execution_count": null,
   "id": "69d25d85",
   "metadata": {},
   "outputs": [],
   "source": [
    "result_cfg = os.path.join(result_dir, \"cfg.yml\")"
   ]
  },
  {
   "cell_type": "code",
   "execution_count": null,
   "id": "c2211057",
   "metadata": {},
   "outputs": [],
   "source": [
    "# Read result_cfg yml file\n",
    "import yaml\n",
    "with open(result_cfg, \"r\") as f:\n",
    "    cfg = yaml.load(f, Loader=yaml.UnsafeLoader)"
   ]
  },
  {
   "cell_type": "code",
   "execution_count": null,
   "id": "d8902615",
   "metadata": {},
   "outputs": [],
   "source": [
    "cfg = edict(cfg)"
   ]
  },
  {
   "cell_type": "code",
   "execution_count": null,
   "id": "cb312632",
   "metadata": {},
   "outputs": [],
   "source": [
    "runner = Runner(local_rank=0, world_rank=0, world_size=1, cfg=cfg)"
   ]
  },
  {
   "cell_type": "code",
   "execution_count": null,
   "id": "8bd44b1d",
   "metadata": {},
   "outputs": [],
   "source": [
    "first_item"
   ]
  },
  {
   "cell_type": "code",
   "execution_count": null,
   "id": "4b934970",
   "metadata": {},
   "outputs": [],
   "source": [
    "ckpt_path = os.path.join(result_dir, \"ckpts\", 'ckpt_29999_rank0.pt')"
   ]
  },
  {
   "cell_type": "code",
   "execution_count": null,
   "id": "2fa62284",
   "metadata": {},
   "outputs": [],
   "source": [
    "import torch\n",
    "device = torch.device('cuda:0' if torch.cuda.is_available() else 'cpu')"
   ]
  },
  {
   "cell_type": "code",
   "execution_count": null,
   "id": "95a81038",
   "metadata": {},
   "outputs": [],
   "source": [
    "ckpt = torch.load(ckpt_path)"
   ]
  },
  {
   "cell_type": "code",
   "execution_count": null,
   "id": "4e2a19d7",
   "metadata": {},
   "outputs": [],
   "source": [
    "splats = ckpt['splats']"
   ]
  },
  {
   "cell_type": "code",
   "execution_count": null,
   "id": "b36c6151",
   "metadata": {},
   "outputs": [],
   "source": [
    "runner.splats = splats"
   ]
  },
  {
   "cell_type": "code",
   "execution_count": null,
   "id": "8ab4791a",
   "metadata": {},
   "outputs": [],
   "source": [
    "test_loader = torch.utils.data.DataLoader(\n",
    "    test_dataset,\n",
    "    batch_size=7,\n",
    "    shuffle=False,\n",
    "    num_workers=0,\n",
    ")"
   ]
  },
  {
   "cell_type": "code",
   "execution_count": null,
   "id": "67b18d2c",
   "metadata": {},
   "outputs": [],
   "source": [
    "data = next(iter(test_loader))"
   ]
  },
  {
   "cell_type": "code",
   "execution_count": null,
   "id": "ff9da721",
   "metadata": {},
   "outputs": [],
   "source": [
    "camtoworlds = data[\"camtoworld\"].to(device)\n",
    "Ks = data[\"K\"].to(device)\n",
    "pixels = data[\"image\"].to(device) / 255.0  # [1, H, W, 4]\n",
    "pixels_alpha = pixels[..., 3:]\n",
    "pixels = pixels[..., :3] * pixels_alpha  # Alpha blend for RGBA\n",
    "masks = data[\"mask\"].to(device) if \"mask\" in data else None\n",
    "height, width = pixels.shape[1:3]"
   ]
  },
  {
   "cell_type": "code",
   "execution_count": null,
   "id": "34b4f207",
   "metadata": {},
   "outputs": [],
   "source": [
    "colors, alphas, _ = runner.rasterize_splats(\n",
    "    camtoworlds=camtoworlds,\n",
    "    Ks=Ks,\n",
    "    width=width,\n",
    "    height=height,\n",
    "    sh_degree=cfg.sh_degree,\n",
    "    near_plane=cfg.near_plane,\n",
    "    far_plane=cfg.far_plane,\n",
    "    masks=masks,\n",
    ")"
   ]
  },
  {
   "cell_type": "code",
   "execution_count": null,
   "id": "bb887116",
   "metadata": {},
   "outputs": [],
   "source": [
    "# Concatenate renders and alphas to get RGBA\n",
    "renders_rgba = torch.cat([colors, alphas], dim=-1)"
   ]
  },
  {
   "cell_type": "code",
   "execution_count": null,
   "id": "ac7bd880",
   "metadata": {},
   "outputs": [],
   "source": [
    "renders_rgba_np = renders_rgba.cpu().detach().numpy()\n",
    "renders_rgba_np = (renders_rgba_np * 255.0).astype('uint8')"
   ]
  },
  {
   "cell_type": "code",
   "execution_count": null,
   "id": "d3849505",
   "metadata": {},
   "outputs": [],
   "source": [
    "first_img = renders_rgba_np[0, ...]"
   ]
  },
  {
   "cell_type": "code",
   "execution_count": null,
   "id": "619f09ac",
   "metadata": {},
   "outputs": [],
   "source": [
    "# Display first_img\n",
    "import matplotlib.pyplot as plt\n",
    "plt.imshow(first_img)\n",
    "plt.axis('off')\n",
    "plt.show()"
   ]
  },
  {
   "cell_type": "code",
   "execution_count": null,
   "id": "d99c730b",
   "metadata": {},
   "outputs": [],
   "source": [
    "test_parser.camera_ids"
   ]
  },
  {
   "cell_type": "code",
   "execution_count": null,
   "id": "babdc19c",
   "metadata": {},
   "outputs": [],
   "source": []
  }
 ],
 "metadata": {
  "kernelspec": {
   "display_name": "gsplat",
   "language": "python",
   "name": "python3"
  },
  "language_info": {
   "codemirror_mode": {
    "name": "ipython",
    "version": 3
   },
   "file_extension": ".py",
   "mimetype": "text/x-python",
   "name": "python",
   "nbconvert_exporter": "python",
   "pygments_lexer": "ipython3",
   "version": "3.12.9"
  }
 },
 "nbformat": 4,
 "nbformat_minor": 5
}
